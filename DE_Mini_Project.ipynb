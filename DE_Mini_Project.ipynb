{
 "cells": [
  {
   "cell_type": "markdown",
   "id": "a470189d",
   "metadata": {},
   "source": [
    "# Building a Historical Temperature Data Ingestion Pipeline\n",
    "Using the WeatherAPI.com and Python"
   ]
  },
  {
   "cell_type": "markdown",
   "id": "2fccbd02",
   "metadata": {},
   "source": [
    "Define the data requirement"
   ]
  },
  {
   "cell_type": "code",
   "execution_count": null,
   "id": "3082a547",
   "metadata": {},
   "outputs": [],
   "source": [
    "import requests\n",
    "import json\n",
    "import psycopg2\n",
    "from kafka import KafkaProducer\n",
    "from kafka import KafkaConsumer\n",
    "import matplotlib.pyplot as plt"
   ]
  },
  {
   "cell_type": "code",
   "execution_count": null,
   "id": "42b1fcf6",
   "metadata": {},
   "outputs": [],
   "source": [
    "# Define the WeatherAPI.com endpoint and your API key\n",
    "weather_api_endpoint = 'https://api.weatherapi.com/v1/history.json'\n",
    "api_key = '56c9e8d497874998bc744157232505'\n",
    "location = 'New York' \n",
    "# Set the start and end dates for data collection\n",
    "start_date = '2023-01-01'\n",
    "end_date = '2023-01-10'"
   ]
  },
  {
   "cell_type": "markdown",
   "id": "61817a58",
   "metadata": {},
   "source": [
    "Set up the Data Pipeline"
   ]
  },
  {
   "cell_type": "code",
   "execution_count": null,
   "id": "33343aa1",
   "metadata": {},
   "outputs": [],
   "source": [
    "# Kafka configuration\n",
    "bootstrap_servers = 'localhost:9092'\n",
    "topic = 'weather_data'\n",
    "\n",
    "\n",
    "# Kafka producer to send messages\n",
    "producer = KafkaProducer(bootstrap_servers=bootstrap_servers)\n",
    "\n",
    "# Kafka consumer to receive messages\n",
    "consumer = KafkaConsumer(bootstrap_servers=bootstrap_servers,\n",
    "                         group_id='weather_consumer',\n",
    "                         auto_offset_reset='earliest')\n",
    "consumer.subscribe([topic])\n",
    "\n"
   ]
  },
  {
   "cell_type": "markdown",
   "id": "5a62d5bb",
   "metadata": {},
   "source": [
    " Collect the data"
   ]
  },
  {
   "cell_type": "code",
   "execution_count": null,
   "id": "4bb2d031",
   "metadata": {
    "scrolled": true
   },
   "outputs": [],
   "source": [
    "def fetch_weather_data():\n",
    "    url = f'http://api.weatherapi.com/v1/history.json?key={api_key}&q={location}&dt={start_date}&end_dt={end_date}'\n",
    "    response = requests.get(url)\n",
    "    return response.json()\n",
    "\n",
    "def produce_weather_data():\n",
    "    data = fetch_weather_data()\n",
    "    producer.send(topic, json.dumps(data).encode('utf-8'))\n",
    "    producer.flush()\n",
    "\n",
    "def consume_weather_data():\n",
    "    for message in consumer:\n",
    "        weather_data = json.loads(message.value.decode('utf-8'))\n",
    "        # Process the weather data as needed\n",
    "        print(weather_data)\n",
    "\n",
    "# Start producing weather data\n",
    "produce_weather_data()\n",
    "\n",
    "# Start consuming weather data\n",
    "consume_weather_data()"
   ]
  },
  {
   "cell_type": "markdown",
   "id": "4b325ebc",
   "metadata": {},
   "source": [
    "Transform the data"
   ]
  },
  {
   "cell_type": "code",
   "execution_count": null,
   "id": "22f951e4",
   "metadata": {},
   "outputs": [],
   "source": [
    "def process_weather_data(data):\n",
    "    # Extract the required information from the raw data\n",
    "    location = data['location']['name']\n",
    "    date = data['forecast']['forecastday'][0]['date']\n",
    "    temperature = data['forecast']['forecastday'][0]['day']['avgtemp_c']\n",
    "    precipitation = data['forecast']['forecastday'][0]['day']['totalprecip_mm']\n",
    "    wind_speed = data['forecast']['forecastday'][0]['day']['maxwind_kph']"
   ]
  },
  {
   "cell_type": "markdown",
   "id": "ed9d9ff4",
   "metadata": {},
   "source": [
    "Store the data"
   ]
  },
  {
   "cell_type": "code",
   "execution_count": null,
   "id": "9128a744",
   "metadata": {},
   "outputs": [],
   "source": [
    "# Configure the Kafka consumer\n",
    "consumer = KafkaConsumer('weather_data', bootstrap_servers='localhost:9092')\n",
    "\n",
    "# Configure the PostgreSQL connection\n",
    "connection = psycopg2.connect(\n",
    "    host='localhost',\n",
    "    port='5432',\n",
    "    database='Trial',\n",
    "    user='postgres',\n",
    "    password='Dpsql@123'\n",
    ")\n",
    "\n",
    "# Create a cursor to interact with the database\n",
    "cursor = connection.cursor()\n",
    "\n",
    "# Create the weather_data table in the database if it doesn't exist\n",
    "create_table_query = '''\n",
    "    CREATE TABLE IF NOT EXISTS weather_data (\n",
    "        id SERIAL PRIMARY KEY,\n",
    "        date DATE NOT NULL,\n",
    "        temperature DECIMAL,\n",
    "        precipitation DECIMAL,\n",
    "        wind_speed DECIMAL\n",
    "    );\n",
    "'''\n",
    "cursor.execute(create_table_query)\n",
    "connection.commit()\n",
    "\n"
   ]
  },
  {
   "cell_type": "code",
   "execution_count": null,
   "id": "107fa4ee",
   "metadata": {
    "scrolled": true
   },
   "outputs": [],
   "source": [
    "# Define the function to store weather data in PostgreSQL\n",
    "def store_weather_data(data):\n",
    "    # Iterate over each weather data entry and insert it into the database\n",
    "    for entry in data:\n",
    "        date = entry['date']\n",
    "        temperature = entry['temperature']\n",
    "        precipitation = entry['precipitation']\n",
    "        wind_speed = entry['wind_speed']\n",
    "\n",
    "        insert_query = '''\n",
    "            INSERT INTO weather_data (date, temperature, precipitation, wind_speed)\n",
    "            VALUES (%s, %s, %s, %s);\n",
    "        '''\n",
    "        cursor.execute(insert_query, (date, temperature, precipitation, wind_speed))\n",
    "        connection.commit()\n",
    "\n",
    "# Consume and store the weather data in the PostgreSQL database\n",
    "for message in consumer:\n",
    "    data = message.value\n",
    "    store_weather_data(data)"
   ]
  },
  {
   "cell_type": "markdown",
   "id": "2e02819e",
   "metadata": {},
   "source": [
    "Visualize the data"
   ]
  },
  {
   "cell_type": "code",
   "execution_count": null,
   "id": "88fe1435",
   "metadata": {},
   "outputs": [],
   "source": [
    "\n",
    "\n",
    "# Retrieve weather data from PostgreSQL\n",
    "def retrieve_weather_data():\n",
    "    query = \"SELECT date, temperature, precipitation FROM weather_data\"\n",
    "    cursor.execute(query)\n",
    "    data = cursor.fetchall()\n",
    "    return data\n",
    "\n",
    "# Generate temperature and humidity plots\n",
    "def generate_weather_plots():\n",
    "    weather_data = retrieve_weather_data()\n",
    "    timestamps = [row[0] for row in weather_data]\n",
    "    temperatures = [row[1] for row in weather_data]\n",
    "    precipitation = [row[2] for row in weather_data]\n",
    "\n",
    "    # Plot temperature\n",
    "    plt.figure(figsize=(10, 6))\n",
    "    plt.plot(date, temperatures, 'b-', label='Temperature')\n",
    "    plt.xlabel('date')\n",
    "    plt.ylabel('Temperature (°C)')\n",
    "    plt.title('Temperature Over Time')\n",
    "    plt.legend()\n",
    "    plt.xticks(rotation=45)\n",
    "    plt.tight_layout()\n",
    "    plt.show()\n",
    "\n",
    "    # Plot humidity\n",
    "    plt.figure(figsize=(10, 6))\n",
    "    plt.plot(dates, precipitation, 'g-', label='Humidity')\n",
    "    plt.xlabel('date')\n",
    "    plt.ylabel('precipitation (%)')\n",
    "    plt.title('precipitation Over Time')\n",
    "    plt.legend()\n",
    "    plt.xticks(rotation=45)\n",
    "    plt.tight_layout()\n",
    "    plt.show()\n",
    "\n",
    "# Generate weather plots\n",
    "generate_weather_plots()\n",
    "\n",
    "# Close the database connection\n",
    "cursor.close()\n",
    "conn.close()\n"
   ]
  },
  {
   "cell_type": "code",
   "execution_count": null,
   "id": "014ec4ff",
   "metadata": {},
   "outputs": [],
   "source": []
  }
 ],
 "metadata": {
  "kernelspec": {
   "display_name": "Python 3 (ipykernel)",
   "language": "python",
   "name": "python3"
  },
  "language_info": {
   "codemirror_mode": {
    "name": "ipython",
    "version": 3
   },
   "file_extension": ".py",
   "mimetype": "text/x-python",
   "name": "python",
   "nbconvert_exporter": "python",
   "pygments_lexer": "ipython3",
   "version": "3.10.9"
  }
 },
 "nbformat": 4,
 "nbformat_minor": 5
}
